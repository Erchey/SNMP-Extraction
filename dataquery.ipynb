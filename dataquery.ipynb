{
 "cells": [
  {
   "cell_type": "code",
   "execution_count": 9,
   "metadata": {},
   "outputs": [
    {
     "name": "stdout",
     "output_type": "stream",
     "text": [
      "   id            timestamp  total_traf   uptime  in_traf  out_traf\n",
      "0  35  2024-09-23 17:15:07           0  2:02:31        0         0\n",
      "1  34  2024-09-23 17:11:31       30816  1:58:54    14805     16011\n",
      "2  33  2024-09-23 15:45:06       40425  0:32:31    19882     20543\n",
      "3  32  2024-09-23 15:44:35       17998  0:32:00     8578      9420\n",
      "4  31  2024-09-23 15:44:13       39253  0:31:28    18774     20479\n",
      "Interrupted\n"
     ]
    }
   ],
   "source": [
    "import sqlite3\n",
    "import pandas as pd\n",
    "import time\n",
    "from IPython.display import clear_output\n",
    "\n",
    "\n",
    "db_path = \"monitoring_data.db\"\n",
    "\n",
    "# Function to load data from the SQLite database into a Pandas DataFrame\n",
    "def load_data_from_db(connection):\n",
    "    query = \"SELECT * FROM DataMonitor ORDER BY id DESC LIMIT 5\"  # Fetch the latest record\n",
    "    df = pd.read_sql_query(query, connection)\n",
    "    return df\n",
    "\n",
    "# Connect to the database\n",
    "connection = sqlite3.connect(db_path)\n",
    "\n",
    "def reload_data():\n",
    "    try:\n",
    "        while True:\n",
    "            # Clear the previous output (in Jupyter)\n",
    "            clear_output(wait=True)\n",
    "\n",
    "            # Load the latest data into a DataFrame\n",
    "            df = load_data_from_db(connection)\n",
    "            \n",
    "            # Print the DataFrame in a formatted way\n",
    "            print(df)\n",
    "            \n",
    "            # Sleep for a specified interval (e.g., 5 seconds) before querying again\n",
    "            time.sleep(5)\n",
    "\n",
    "    except KeyboardInterrupt:\n",
    "        print('Interrupted')\n",
    "\n",
    "    finally:\n",
    "        # Close the database connection when done\n",
    "        connection.close()\n",
    "    \n",
    "    \n",
    "\n",
    "\n",
    "reload_data()"
   ]
  }
 ],
 "metadata": {
  "kernelspec": {
   "display_name": "myenv",
   "language": "python",
   "name": "python3"
  },
  "language_info": {
   "codemirror_mode": {
    "name": "ipython",
    "version": 3
   },
   "file_extension": ".py",
   "mimetype": "text/x-python",
   "name": "python",
   "nbconvert_exporter": "python",
   "pygments_lexer": "ipython3",
   "version": "3.12.6"
  }
 },
 "nbformat": 4,
 "nbformat_minor": 2
}
