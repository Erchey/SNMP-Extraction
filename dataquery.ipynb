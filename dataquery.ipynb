{
 "cells": [
  {
   "cell_type": "code",
   "execution_count": 2,
   "metadata": {},
   "outputs": [
    {
     "name": "stdout",
     "output_type": "stream",
     "text": [
      "Retrieved Data from Database:\n",
      "ID: 1, Data: 303800.0, Uptime: 172886.0, Timestamp: 2024-09-22 21:33:52\n",
      "ID: 2, Data: 334370.0, Uptime: 175932.0, Timestamp: 2024-09-22 21:34:23\n"
     ]
    }
   ],
   "source": [
    "import sqlite3\n",
    "\n",
    "def query_data_from_db(db_path):\n",
    "    connection = sqlite3.connect(db_path)\n",
    "    cursor = connection.cursor()\n",
    "\n",
    "    # Query all records from the DataMonitor table\n",
    "    cursor.execute('''\n",
    "        SELECT id, timestamp, total_traf, uptime, in_traf, out_traf \n",
    "        FROM DataMonitor\n",
    "    ''')\n",
    "\n",
    "    # Fetch all rows from the executed query\n",
    "    rows = cursor.fetchall()\n",
    "\n",
    "    if rows:\n",
    "        print(\"Retrieved Data from Database:\")\n",
    "        for row in rows:\n",
    "            print(f\"ID: {row[0]}, Timestamp: {row[1]}, Data: {row[2]}, Uptime: {row[3]}, In_Traffic: {row[4]}, Out_Traffic: {row[5]}\")\n",
    "    else:\n",
    "        print(\"No data found in the database.\")\n",
    "\n",
    "    connection.close()\n",
    "\n",
    "# Example usage\n",
    "if __name__ == \"__main__\":\n",
    "    query_data_from_db('monitoring_data.db')\n"
   ]
  }
 ],
 "metadata": {
  "kernelspec": {
   "display_name": "myenv",
   "language": "python",
   "name": "python3"
  },
  "language_info": {
   "codemirror_mode": {
    "name": "ipython",
    "version": 3
   },
   "file_extension": ".py",
   "mimetype": "text/x-python",
   "name": "python",
   "nbconvert_exporter": "python",
   "pygments_lexer": "ipython3",
   "version": "3.12.4"
  }
 },
 "nbformat": 4,
 "nbformat_minor": 2
}
